{
 "cells": [
  {
   "cell_type": "code",
   "execution_count": 1,
   "metadata": {},
   "outputs": [],
   "source": [
    "# load packages\n",
    "import os\n",
    "import pandas as pd\n",
    "import numpy as np\n",
    "import matplotlib.pyplot as plt\n",
    "import datetime as dt"
   ]
  },
  {
   "cell_type": "code",
   "execution_count": 2,
   "metadata": {},
   "outputs": [],
   "source": [
    "# classes and functions from 'util'\n",
    "from util.data_load import returns_load\n",
    "from util.GarchEstimator import GarchEstimator\n",
    "from util.DescStat import DescStat\n",
    "from util.ANN_core import NeuralNetwork"
   ]
  },
  {
   "cell_type": "code",
   "execution_count": 3,
   "metadata": {},
   "outputs": [],
   "source": [
    "from util.ANN_core import lLik"
   ]
  },
  {
   "cell_type": "code",
   "execution_count": 4,
   "metadata": {},
   "outputs": [],
   "source": [
    "start_dt = '2000-01-01'\n",
    "end_dt = '2020-03-01'\n",
    "ticker = 'MSFT' \n",
    "interval = '1d'\n",
    "garch_init = {\n",
    "    'alpha' : 0.7,\n",
    "    'beta1' : 0.3,\n",
    "    'beta2' : 0.1,\n",
    "    'omega1' : 0.01,\n",
    "    'omega2' : 0.01,\n",
    "    'omega3' : 0.01\n",
    "}"
   ]
  },
  {
   "cell_type": "code",
   "execution_count": 5,
   "metadata": {},
   "outputs": [
    {
     "name": "stdout",
     "output_type": "stream",
     "text": [
      "[*********************100%***********************]  1 of 1 completed\n"
     ]
    }
   ],
   "source": [
    "ret_data = returns_load(ticker=ticker,\n",
    "                    interval=interval,\n",
    "                    start_dt=start_dt,\n",
    "                    end_dt=end_dt)"
   ]
  },
  {
   "cell_type": "code",
   "execution_count": 6,
   "metadata": {},
   "outputs": [],
   "source": [
    "garch =  GarchEstimator(theta_init = garch_init)"
   ]
  },
  {
   "cell_type": "code",
   "execution_count": 7,
   "metadata": {},
   "outputs": [
    {
     "name": "stdout",
     "output_type": "stream",
     "text": [
      "`xtol` termination condition is satisfied.\n",
      "Number of iterations: 465, function evaluations: 3038, CG iterations: 1361, optimality: 5.55e-04, constraint violation: 0.00e+00, execution time: 6.9e+02 s.\n",
      "Model recalculated!\n",
      " barrier_parameter: 2.048000000000001e-09\n",
      " barrier_tolerance: 2.048000000000001e-09\n",
      "          cg_niter: 1361\n",
      "      cg_stop_cond: 4\n",
      "            constr: [array([1.72537362e-01, 1.10906902e-01, 8.65658474e-02, 7.80671466e-06,\n",
      "       4.79330203e-01, 2.81250032e-01])]\n",
      "       constr_nfev: [0]\n",
      "       constr_nhev: [0]\n",
      "       constr_njev: [0]\n",
      "    constr_penalty: 1.0\n",
      "  constr_violation: 0.0\n",
      "    execution_time: 693.6266660690308\n",
      "               fun: 9766.09531323833\n",
      "              grad: array([-4.02832031e-03, -3.41796875e-03, -4.88281250e-03,  5.17895508e+00,\n",
      "       -2.80761719e-03, -7.56835938e-03])\n",
      "               jac: [<6x6 sparse matrix of type '<class 'numpy.float64'>'\n",
      "\twith 6 stored elements in Compressed Sparse Row format>]\n",
      "   lagrangian_grad: array([-1.16451627e-04, -4.15315052e-05, -3.63180632e-05,  3.15615090e-10,\n",
      "       -5.24542265e-04, -5.54781275e-04])\n",
      "           message: '`xtol` termination condition is satisfied.'\n",
      "            method: 'tr_interior_point'\n",
      "              nfev: 3038\n",
      "              nhev: 0\n",
      "               nit: 465\n",
      "             niter: 465\n",
      "              njev: 0\n",
      "        optimality: 0.0005547812753515314\n",
      "            status: 2\n",
      "           success: True\n",
      "         tr_radius: 5.0000000000000026e-09\n",
      "                 v: [array([ 3.91186869e-03,  3.37643724e-03,  4.84649444e-03, -5.17895508e+00,\n",
      "        2.28307492e-03,  7.01357810e-03])]\n",
      "                 x: array([1.72537362e-01, 1.10906902e-01, 8.65658474e-02, 7.80671466e-06,\n",
      "       4.79330203e-01, 2.81250032e-01])\n",
      "({'alpha': 0.1725373622848726, 'beta1': 0.11090690248752334, 'beta2': 0.08656584739365053, 'omega1': 7.806714658668315e-06, 'omega2': 0.47933020257236403, 'omega3': 0.2812500323879602}, -9766.09531323833)\n"
     ]
    }
   ],
   "source": [
    "ret_data['garch'] = garch.fit_data(\n",
    "    method='GARCH',\n",
    "    data_estimate=ret_data['return']*100,\n",
    "    data_fit=ret_data['return']*100\n",
    "    \n",
    ")\n",
    "print(garch.get_estimates(coef=True, llik=True))"
   ]
  },
  {
   "cell_type": "code",
   "execution_count": 8,
   "metadata": {},
   "outputs": [
    {
     "name": "stderr",
     "output_type": "stream",
     "text": [
      "C:\\Users\\sskor\\Anaconda3\\lib\\site-packages\\pandas\\plotting\\_converter.py:129: FutureWarning: Using an implicitly registered datetime converter for a matplotlib plotting method. The converter was registered by pandas on import. Future versions of pandas will require you to explicitly register matplotlib converters.\n",
      "\n",
      "To register the converters:\n",
      "\t>>> from pandas.plotting import register_matplotlib_converters\n",
      "\t>>> register_matplotlib_converters()\n",
      "  warnings.warn(msg, FutureWarning)\n"
     ]
    },
    {
     "data": {
      "image/png": "[encoded data removed]",
      "text/plain": [
       "<Figure size 432x288 with 1 Axes>"
      ]
     },
     "metadata": {
      "needs_background": "light"
     },
     "output_type": "display_data"
    }
   ],
   "source": [
    "x = ret_data['dt']\n",
    "y1 = ret_data['return']*100\n",
    "y2 = ret_data['garch']\n",
    "plt.plot(x, y1)\n",
    "plt.plot(x, y2)\n",
    "plt.show()"
   ]
  },
  {
   "cell_type": "code",
   "execution_count": 9,
   "metadata": {},
   "outputs": [],
   "source": [
    "desc_obj = DescStat(data=ret_data['return']*100)"
   ]
  },
  {
   "cell_type": "code",
   "execution_count": 10,
   "metadata": {},
   "outputs": [],
   "source": [
    "ret_data_enriched = pd.DataFrame({\n",
    "    'dt': ret_data['dt'],\n",
    "    'return100' : ret_data['return']*100,\n",
    "    'garch': ret_data['garch'],\n",
    "    'mean5_return100': desc_obj.calc_mean(window=5),\n",
    "    'var5_return100': desc_obj.calc_var(window=5),\n",
    "})"
   ]
  },
  {
   "cell_type": "code",
   "execution_count": 11,
   "metadata": {},
   "outputs": [
    {
     "data": {
      "image/png": "[encoded data removed]",
      "text/plain": [
       "<Figure size 432x288 with 1 Axes>"
      ]
     },
     "metadata": {
      "needs_background": "light"
     },
     "output_type": "display_data"
    }
   ],
   "source": [
    "x = ret_data_enriched['dt']\n",
    "y1 = ret_data_enriched['return100']\n",
    "y2 = ret_data_enriched['garch']\n",
    "y3 = ret_data_enriched['mean5_return100']\n",
    "y4 = ret_data_enriched['var5_return100']\n",
    "plt.plot(x, y1)\n",
    "plt.plot(x, y2)\n",
    "plt.plot(x, y4)\n",
    "plt.show()"
   ]
  },
  {
   "cell_type": "code",
   "execution_count": 12,
   "metadata": {},
   "outputs": [
    {
     "data": {
      "text/html": [
       "<div>\n",
       "<style scoped>\n",
       "    .dataframe tbody tr th:only-of-type {\n",
       "        vertical-align: middle;\n",
       "    }\n",
       "\n",
       "    .dataframe tbody tr th {\n",
       "        vertical-align: top;\n",
       "    }\n",
       "\n",
       "    .dataframe thead th {\n",
       "        text-align: right;\n",
       "    }\n",
       "</style>\n",
       "<table border=\"1\" class=\"dataframe\">\n",
       "  <thead>\n",
       "    <tr style=\"text-align: right;\">\n",
       "      <th></th>\n",
       "      <th>dt</th>\n",
       "      <th>return100</th>\n",
       "      <th>garch</th>\n",
       "      <th>mean5_return100</th>\n",
       "      <th>var5_return100</th>\n",
       "    </tr>\n",
       "  </thead>\n",
       "  <tbody>\n",
       "    <tr>\n",
       "      <th>0</th>\n",
       "      <td>2000-01-03</td>\n",
       "      <td>-0.160600</td>\n",
       "      <td>0.100000</td>\n",
       "      <td>NaN</td>\n",
       "      <td>NaN</td>\n",
       "    </tr>\n",
       "    <tr>\n",
       "      <th>1</th>\n",
       "      <td>2000-01-04</td>\n",
       "      <td>-3.378016</td>\n",
       "      <td>0.100000</td>\n",
       "      <td>NaN</td>\n",
       "      <td>NaN</td>\n",
       "    </tr>\n",
       "    <tr>\n",
       "      <th>2</th>\n",
       "      <td>2000-01-05</td>\n",
       "      <td>1.054384</td>\n",
       "      <td>0.100000</td>\n",
       "      <td>NaN</td>\n",
       "      <td>NaN</td>\n",
       "    </tr>\n",
       "    <tr>\n",
       "      <th>3</th>\n",
       "      <td>2000-01-06</td>\n",
       "      <td>-3.349808</td>\n",
       "      <td>1.359696</td>\n",
       "      <td>NaN</td>\n",
       "      <td>NaN</td>\n",
       "    </tr>\n",
       "    <tr>\n",
       "      <th>4</th>\n",
       "      <td>2000-01-07</td>\n",
       "      <td>1.306818</td>\n",
       "      <td>1.589353</td>\n",
       "      <td>-0.905444</td>\n",
       "      <td>-0.905444</td>\n",
       "    </tr>\n",
       "    <tr>\n",
       "      <th>5</th>\n",
       "      <td>2000-01-10</td>\n",
       "      <td>0.729108</td>\n",
       "      <td>2.013196</td>\n",
       "      <td>-0.727503</td>\n",
       "      <td>-0.727503</td>\n",
       "    </tr>\n",
       "    <tr>\n",
       "      <th>6</th>\n",
       "      <td>2000-01-11</td>\n",
       "      <td>-2.561247</td>\n",
       "      <td>1.523586</td>\n",
       "      <td>-0.564149</td>\n",
       "      <td>-0.564149</td>\n",
       "    </tr>\n",
       "    <tr>\n",
       "      <th>7</th>\n",
       "      <td>2000-01-12</td>\n",
       "      <td>-3.257143</td>\n",
       "      <td>2.358107</td>\n",
       "      <td>-1.426454</td>\n",
       "      <td>-1.426454</td>\n",
       "    </tr>\n",
       "    <tr>\n",
       "      <th>8</th>\n",
       "      <td>2000-01-13</td>\n",
       "      <td>1.890136</td>\n",
       "      <td>3.213548</td>\n",
       "      <td>-0.378466</td>\n",
       "      <td>-0.378466</td>\n",
       "    </tr>\n",
       "    <tr>\n",
       "      <th>9</th>\n",
       "      <td>2000-01-14</td>\n",
       "      <td>4.115942</td>\n",
       "      <td>3.045986</td>\n",
       "      <td>0.183359</td>\n",
       "      <td>0.183359</td>\n",
       "    </tr>\n",
       "  </tbody>\n",
       "</table>\n",
       "</div>"
      ],
      "text/plain": [
       "          dt  return100     garch  mean5_return100  var5_return100\n",
       "0 2000-01-03  -0.160600  0.100000              NaN             NaN\n",
       "1 2000-01-04  -3.378016  0.100000              NaN             NaN\n",
       "2 2000-01-05   1.054384  0.100000              NaN             NaN\n",
       "3 2000-01-06  -3.349808  1.359696              NaN             NaN\n",
       "4 2000-01-07   1.306818  1.589353        -0.905444       -0.905444\n",
       "5 2000-01-10   0.729108  2.013196        -0.727503       -0.727503\n",
       "6 2000-01-11  -2.561247  1.523586        -0.564149       -0.564149\n",
       "7 2000-01-12  -3.257143  2.358107        -1.426454       -1.426454\n",
       "8 2000-01-13   1.890136  3.213548        -0.378466       -0.378466\n",
       "9 2000-01-14   4.115942  3.045986         0.183359        0.183359"
      ]
     },
     "execution_count": 12,
     "metadata": {},
     "output_type": "execute_result"
    }
   ],
   "source": [
    "ret_data_enriched.head(10)"
   ]
  },
  {
   "cell_type": "code",
   "execution_count": 13,
   "metadata": {},
   "outputs": [
    {
     "data": {
      "text/plain": [
       "(5071, 5)"
      ]
     },
     "execution_count": 13,
     "metadata": {},
     "output_type": "execute_result"
    }
   ],
   "source": [
    "ret_data_enriched.shape"
   ]
  },
  {
   "cell_type": "code",
   "execution_count": 14,
   "metadata": {},
   "outputs": [
    {
     "data": {
      "text/plain": [
       "(5067, 5)"
      ]
     },
     "execution_count": 14,
     "metadata": {},
     "output_type": "execute_result"
    }
   ],
   "source": [
    "ret_data_enriched.dropna(inplace=True)\n",
    "ret_data_enriched.shape"
   ]
  },
  {
   "cell_type": "code",
   "execution_count": 15,
   "metadata": {},
   "outputs": [],
   "source": [
    "NN_obj = NeuralNetwork(\n",
    "    x=ret_data_enriched.iloc[:,2:5],\n",
    "    y=ret_data_enriched.iloc[:,1:2],\n",
    "    obj_fun=lLik,\n",
    "    hidden_layer=1,\n",
    ")"
   ]
  },
  {
   "cell_type": "code",
   "execution_count": 16,
   "metadata": {},
   "outputs": [],
   "source": [
    "NN_obj.feedforward()"
   ]
  },
  {
   "cell_type": "code",
   "execution_count": 17,
   "metadata": {},
   "outputs": [
    {
     "name": "stderr",
     "output_type": "stream",
     "text": [
      "C:\\Users\\sskor\\Documents\\uni\\CZ\\5.rocnik\\diplomka\\util\\ANN_core.py:78: RuntimeWarning: invalid value encountered in sqrt\n",
      "  LLik_der = - 1 / sigma_pred ** (1/2) + (1 / sigma_pred ** (3/2)) * (obs_val)\n",
      "C:\\Users\\sskor\\Documents\\uni\\CZ\\5.rocnik\\diplomka\\util\\ANN_core.py:78: RuntimeWarning: invalid value encountered in power\n",
      "  LLik_der = - 1 / sigma_pred ** (1/2) + (1 / sigma_pred ** (3/2)) * (obs_val)\n"
     ]
    }
   ],
   "source": [
    "NN_obj.backprop()"
   ]
  },
  {
   "cell_type": "code",
   "execution_count": 18,
   "metadata": {},
   "outputs": [],
   "source": [
    "NN_obj.feedforward()"
   ]
  },
  {
   "cell_type": "code",
   "execution_count": 22,
   "metadata": {},
   "outputs": [
    {
     "data": {
      "text/plain": [
       "[array([[nan],\n",
       "        [nan],\n",
       "        [nan]]), array([[nan]]), array([[nan]])]"
      ]
     },
     "execution_count": 22,
     "metadata": {},
     "output_type": "execute_result"
    }
   ],
   "source": [
    "NN_obj.get_weights()"
   ]
  },
  {
   "cell_type": "code",
   "execution_count": 20,
   "metadata": {},
   "outputs": [
    {
     "data": {
      "image/png": "[encoded data removed]",
      "text/plain": [
       "<Figure size 432x288 with 1 Axes>"
      ]
     },
     "metadata": {
      "needs_background": "light"
     },
     "output_type": "display_data"
    }
   ],
   "source": [
    "x = ret_data_enriched['dt']\n",
    "y1 = ret_data_enriched['return100']\n",
    "y2 = ret_data_enriched['garch']\n",
    "y3 = ret_data_enriched['mean5_return100']\n",
    "y4 = ret_data_enriched['var5_return100']\n",
    "plt.plot(x, y1)\n",
    "plt.plot(x, y2)\n",
    "plt.plot(x, y4)\n",
    "plt.show()"
   ]
  }
 ],
 "metadata": {
  "kernelspec": {
   "display_name": "Python 3",
   "language": "python",
   "name": "python3"
  },
  "language_info": {
   "codemirror_mode": {
    "name": "ipython",
    "version": 3
   },
   "file_extension": ".py",
   "mimetype": "text/x-python",
   "name": "python",
   "nbconvert_exporter": "python",
   "pygments_lexer": "ipython3",
   "version": "3.7.3"
  }
 },
 "nbformat": 4,
 "nbformat_minor": 2
}
