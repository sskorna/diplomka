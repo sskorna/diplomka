{
 "cells": [
  {
   "cell_type": "code",
   "execution_count": 1,
   "metadata": {},
   "outputs": [],
   "source": [
    "import os\n",
    "import pandas as pd\n",
    "import numpy as np\n",
    "import matplotlib.pyplot as plt\n",
    "import datetime as dt\n",
    "\n",
    "# classes and functions from 'util'\n",
    "from util.data_load import returns_load\n",
    "from util.GarchEstimator import GarchEstimator"
   ]
  },
  {
   "cell_type": "code",
   "execution_count": 2,
   "metadata": {},
   "outputs": [],
   "source": [
    "start_dt = '2000-01-01'\n",
    "end_dt = '2020-03-01'\n",
    "ticker = 'MSFT' \n",
    "interval = '1d'\n",
    "garch_init = {\n",
    "    'alpha' : 0.7,\n",
    "    'beta' : 0.8,\n",
    "    'omega' : 0.01\n",
    "}"
   ]
  },
  {
   "cell_type": "code",
   "execution_count": 3,
   "metadata": {},
   "outputs": [
    {
     "name": "stdout",
     "output_type": "stream",
     "text": [
      "[*********************100%***********************]  1 of 1 completed\n"
     ]
    }
   ],
   "source": [
    "ret_data = returns_load(ticker=ticker,\n",
    "                    interval=interval,\n",
    "                    start_dt=start_dt,\n",
    "                    end_dt=end_dt)"
   ]
  },
  {
   "cell_type": "code",
   "execution_count": 4,
   "metadata": {},
   "outputs": [],
   "source": [
    "garch =  GarchEstimator(theta_init = garch_init)"
   ]
  },
  {
   "cell_type": "code",
   "execution_count": 5,
   "metadata": {},
   "outputs": [
    {
     "name": "stdout",
     "output_type": "stream",
     "text": [
      "[0.7, 0.8, 0.01]\n"
     ]
    },
    {
     "name": "stderr",
     "output_type": "stream",
     "text": [
      "C:\\Users\\sskor\\Anaconda3\\lib\\site-packages\\scipy\\optimize\\_hessian_update_strategy.py:187: UserWarning: delta_grad == 0.0. Check if the approximated function is linear. If the function is linear better results can be obtained by defining the Hessian as zero instead of using quasi-Newton approximations.\n",
      "  'approximations.', UserWarning)\n"
     ]
    },
    {
     "name": "stdout",
     "output_type": "stream",
     "text": [
      "`xtol` termination condition is satisfied.\n",
      "Number of iterations: 150, function evaluations: 788, CG iterations: 225, optimality: 4.13e-03, constraint violation: 0.00e+00, execution time: 8.8e+01 s.\n",
      "Model recalculated!\n",
      " barrier_parameter: 2.048000000000001e-09\n",
      " barrier_tolerance: 2.048000000000001e-09\n",
      "          cg_niter: 225\n",
      "      cg_stop_cond: 4\n",
      "            constr: [array([1.00001379e-05, 9.86852229e-02, 8.75259662e-01])]\n",
      "       constr_nfev: [0]\n",
      "       constr_nhev: [0]\n",
      "       constr_njev: [0]\n",
      "    constr_penalty: 1.0\n",
      "  constr_violation: 0.0\n",
      "    execution_time: 87.76739239692688\n",
      "               fun: -13644.142725579577\n",
      "              grad: array([1.16069611e+06, 5.85937500e-03, 9.52148438e-03])\n",
      "               jac: [<3x3 sparse matrix of type '<class 'numpy.float64'>'\n",
      "\twith 3 stored elements in Compressed Sparse Row format>]\n",
      "   lagrangian_grad: array([0.00000000e+00, 5.65125048e-05, 4.12998966e-03])\n",
      "           message: '`xtol` termination condition is satisfied.'\n",
      "            method: 'tr_interior_point'\n",
      "              nfev: 788\n",
      "              nhev: 0\n",
      "               nit: 150\n",
      "             niter: 150\n",
      "              njev: 0\n",
      "        optimality: 0.004129989664274145\n",
      "            status: 2\n",
      "           success: True\n",
      "         tr_radius: 1.0000000000000005e-09\n",
      "                 v: [array([-1.16069611e+06, -5.80286250e-03, -5.39149471e-03])]\n",
      "                 x: array([1.00001379e-05, 9.86852229e-02, 8.75259662e-01])\n",
      "({'alpha': 0.7, 'beta': 0.8, 'omega': 0.01}, -3779.6272741346047)\n"
     ]
    }
   ],
   "source": [
    "ret_data['garch'] = garch.fit_data(method='GARCH',\n",
    "                                       data_estimate=ret_data['return'],\n",
    "                                       data_fit=ret_data['return'])\n",
    "print(garch.get_estimates(coef=True, llik=True))"
   ]
  },
  {
   "cell_type": "code",
   "execution_count": 7,
   "metadata": {},
   "outputs": [
    {
     "name": "stderr",
     "output_type": "stream",
     "text": [
      "C:\\Users\\sskor\\Anaconda3\\lib\\site-packages\\pandas\\plotting\\_converter.py:129: FutureWarning: Using an implicitly registered datetime converter for a matplotlib plotting method. The converter was registered by pandas on import. Future versions of pandas will require you to explicitly register matplotlib converters.\n",
      "\n",
      "To register the converters:\n",
      "\t>>> from pandas.plotting import register_matplotlib_converters\n",
      "\t>>> register_matplotlib_converters()\n",
      "  warnings.warn(msg, FutureWarning)\n"
     ]
    },
    {
     "data": {
      "image/png": "[encoded data removed]",
      "text/plain": [
       "<Figure size 432x288 with 1 Axes>"
      ]
     },
     "metadata": {
      "needs_background": "light"
     },
     "output_type": "display_data"
    }
   ],
   "source": [
    "x = ret_data['dt']\n",
    "y1 = ret_data['return']\n",
    "y2 = ret_data['garch']\n",
    "plt.plot(x, y1)\n",
    "plt.plot(x, y2)\n",
    "plt.show()"
   ]
  }
 ],
 "metadata": {
  "kernelspec": {
   "display_name": "Python 3",
   "language": "python",
   "name": "python3"
  },
  "language_info": {
   "codemirror_mode": {
    "name": "ipython",
    "version": 3
   },
   "file_extension": ".py",
   "mimetype": "text/x-python",
   "name": "python",
   "nbconvert_exporter": "python",
   "pygments_lexer": "ipython3",
   "version": "3.7.3"
  }
 },
 "nbformat": 4,
 "nbformat_minor": 2
}
