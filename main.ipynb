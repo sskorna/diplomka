{
 "cells": [
  {
   "cell_type": "code",
   "execution_count": 1,
   "metadata": {},
   "outputs": [],
   "source": [
    "import os\n",
    "import pandas as pd\n",
    "import numpy as np\n",
    "import matplotlib.pyplot as plt\n",
    "import datetime as dt\n",
    "\n",
    "# classes and functions from 'util'\n",
    "from util.data_load import returns_load\n",
    "from util.GarchEstimator import GarchEstimator"
   ]
  },
  {
   "cell_type": "code",
   "execution_count": 2,
   "metadata": {},
   "outputs": [],
   "source": [
    "start_dt = '2000-01-01'\n",
    "end_dt = '2020-03-01'\n",
    "ticker = 'MSFT' \n",
    "interval = '1d'\n",
    "garch_init = {\n",
    "    'alpha' : 0.7,\n",
    "    'beta1' : 0.3,\n",
    "    'beta2' : 0.1,\n",
    "    'omega1' : 0.01,\n",
    "    'omega2' : 0.01,\n",
    "    'omega3' : 0.01\n",
    "}"
   ]
  },
  {
   "cell_type": "code",
   "execution_count": 3,
   "metadata": {},
   "outputs": [
    {
     "name": "stdout",
     "output_type": "stream",
     "text": [
      "[*********************100%***********************]  1 of 1 completed\n"
     ]
    }
   ],
   "source": [
    "ret_data = returns_load(ticker=ticker,\n",
    "                    interval=interval,\n",
    "                    start_dt=start_dt,\n",
    "                    end_dt=end_dt)"
   ]
  },
  {
   "cell_type": "code",
   "execution_count": 8,
   "metadata": {},
   "outputs": [],
   "source": [
    "garch =  GarchEstimator(theta_init = garch_init)"
   ]
  },
  {
   "cell_type": "code",
   "execution_count": 9,
   "metadata": {},
   "outputs": [
    {
     "name": "stdout",
     "output_type": "stream",
     "text": [
      "`xtol` termination condition is satisfied.\n",
      "Number of iterations: 465, function evaluations: 3038, CG iterations: 1361, optimality: 5.55e-04, constraint violation: 0.00e+00, execution time: 3.1e+02 s.\n",
      "Model recalculated!\n",
      " barrier_parameter: 2.048000000000001e-09\n",
      " barrier_tolerance: 2.048000000000001e-09\n",
      "          cg_niter: 1361\n",
      "      cg_stop_cond: 4\n",
      "            constr: [array([1.72537362e-01, 1.10906902e-01, 8.65658474e-02, 7.80671466e-06,\n",
      "       4.79330203e-01, 2.81250032e-01])]\n",
      "       constr_nfev: [0]\n",
      "       constr_nhev: [0]\n",
      "       constr_njev: [0]\n",
      "    constr_penalty: 1.0\n",
      "  constr_violation: 0.0\n",
      "    execution_time: 307.9657998085022\n",
      "               fun: 9766.09531323833\n",
      "              grad: array([-4.02832031e-03, -3.41796875e-03, -4.88281250e-03,  5.17895508e+00,\n",
      "       -2.80761719e-03, -7.56835938e-03])\n",
      "               jac: [<6x6 sparse matrix of type '<class 'numpy.float64'>'\n",
      "\twith 6 stored elements in Compressed Sparse Row format>]\n",
      "   lagrangian_grad: array([-1.16451627e-04, -4.15315052e-05, -3.63180632e-05,  3.15615090e-10,\n",
      "       -5.24542265e-04, -5.54781275e-04])\n",
      "           message: '`xtol` termination condition is satisfied.'\n",
      "            method: 'tr_interior_point'\n",
      "              nfev: 3038\n",
      "              nhev: 0\n",
      "               nit: 465\n",
      "             niter: 465\n",
      "              njev: 0\n",
      "        optimality: 0.0005547812753515314\n",
      "            status: 2\n",
      "           success: True\n",
      "         tr_radius: 5.0000000000000026e-09\n",
      "                 v: [array([ 3.91186869e-03,  3.37643724e-03,  4.84649444e-03, -5.17895508e+00,\n",
      "        2.28307492e-03,  7.01357810e-03])]\n",
      "                 x: array([1.72537362e-01, 1.10906902e-01, 8.65658474e-02, 7.80671466e-06,\n",
      "       4.79330203e-01, 2.81250032e-01])\n",
      "({'alpha': 0.1725373622848726, 'beta1': 0.11090690248752334, 'beta2': 0.08656584739365053, 'omega1': 7.806714658668315e-06, 'omega2': 0.47933020257236403, 'omega3': 0.2812500323879602}, -9766.09531323833)\n"
     ]
    }
   ],
   "source": [
    "ret_data['garch'] = garch.fit_data(\n",
    "    method='GARCH',\n",
    "    data_estimate=ret_data['return']*100,\n",
    "    data_fit=ret_data['return']*100\n",
    "    \n",
    ")\n",
    "print(garch.get_estimates(coef=True, llik=True))"
   ]
  },
  {
   "cell_type": "code",
   "execution_count": 11,
   "metadata": {},
   "outputs": [
    {
     "data": {
      "image/png": "[encoded data removed]",
      "text/plain": [
       "<Figure size 432x288 with 1 Axes>"
      ]
     },
     "metadata": {
      "needs_background": "light"
     },
     "output_type": "display_data"
    }
   ],
   "source": [
    "x = ret_data['dt']\n",
    "y1 = ret_data['return']*100\n",
    "y2 = ret_data['garch']\n",
    "plt.plot(x, y1)\n",
    "plt.plot(x, y2)\n",
    "plt.show()"
   ]
  }
 ],
 "metadata": {
  "kernelspec": {
   "display_name": "Python 3",
   "language": "python",
   "name": "python3"
  },
  "language_info": {
   "codemirror_mode": {
    "name": "ipython",
    "version": 3
   },
   "file_extension": ".py",
   "mimetype": "text/x-python",
   "name": "python",
   "nbconvert_exporter": "python",
   "pygments_lexer": "ipython3",
   "version": "3.7.3"
  }
 },
 "nbformat": 4,
 "nbformat_minor": 2
}
